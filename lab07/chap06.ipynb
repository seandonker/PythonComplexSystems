{
 "cells": [
  {
   "cell_type": "markdown",
   "metadata": {},
   "source": [
    "# Game of Life\n",
    "\n",
    "Code examples from [Think Complexity, 2nd edition](https://thinkcomplex.com).\n",
    "\n",
    "Copyright 2016 Allen Downey, [MIT License](http://opensource.org/licenses/MIT)"
   ]
  },
  {
   "cell_type": "code",
   "execution_count": 1,
   "metadata": {},
   "outputs": [],
   "source": [
    "import matplotlib.pyplot as plt\n",
    "import numpy as np"
   ]
  },
  {
   "cell_type": "code",
   "execution_count": 2,
   "metadata": {},
   "outputs": [],
   "source": [
    "from os.path import basename, exists\n",
    "\n",
    "def download(url):\n",
    "    filename = basename(url)\n",
    "    if not exists(filename):\n",
    "        from urllib.request import urlretrieve\n",
    "        local, _ = urlretrieve(url, filename)\n",
    "        print('Downloaded ' + local)\n",
    "    \n",
    "download('https://github.com/AllenDowney/ThinkComplexity2/raw/master/notebooks/utils.py')"
   ]
  },
  {
   "cell_type": "code",
   "execution_count": 3,
   "metadata": {},
   "outputs": [],
   "source": [
    "from utils import savefig"
   ]
  },
  {
   "cell_type": "markdown",
   "metadata": {},
   "source": [
    "## Game of Life entities"
   ]
  },
  {
   "cell_type": "code",
   "execution_count": 4,
   "metadata": {},
   "outputs": [],
   "source": [
    "download('https://github.com/AllenDowney/ThinkComplexity2/raw/master/notebooks/Cell2D.py')"
   ]
  },
  {
   "cell_type": "code",
   "execution_count": 5,
   "metadata": {},
   "outputs": [],
   "source": [
    "from scipy.signal import correlate2d\n",
    "from Cell2D import Cell2D\n",
    "\n",
    "class Life(Cell2D):\n",
    "    \"\"\"Implementation of Conway's Game of Life.\"\"\"\n",
    "    kernel = np.array([[1, 1, 1],\n",
    "                       [1,10, 1],\n",
    "                       [1, 1, 1]])\n",
    "\n",
    "    table = np.zeros(20, dtype=np.uint8)\n",
    "    table[[3, 12, 13]] = 1\n",
    "\n",
    "    def step(self):\n",
    "        \"\"\"Executes one time step.\"\"\"\n",
    "        c = correlate2d(self.array, self.kernel, mode='same')\n",
    "        self.array = self.table[c]"
   ]
  },
  {
   "cell_type": "markdown",
   "metadata": {},
   "source": [
    "The following function creates a `Life` object and sets the initial condition using strings of `0` and `1` characters."
   ]
  },
  {
   "cell_type": "code",
   "execution_count": 6,
   "metadata": {},
   "outputs": [],
   "source": [
    "def make_life(n, m, row, col, *strings):\n",
    "    \"\"\"Makes a Life object.\n",
    "    \n",
    "    n, m: rows and columns of the Life array\n",
    "    row, col: upper left coordinate of the cells to be added\n",
    "    strings: list of strings of '0' and '1'\n",
    "    \"\"\"\n",
    "    life = Life(n, m)\n",
    "    life.add_cells(row, col, *strings)\n",
    "    return life"
   ]
  },
  {
   "cell_type": "markdown",
   "metadata": {},
   "source": [
    "A beehive is a stable entity, also called a \"still life\""
   ]
  },
  {
   "cell_type": "code",
   "execution_count": 7,
   "metadata": {},
   "outputs": [],
   "source": [
    "# beehive\n",
    "life = make_life(3, 4, 0, 0, '0110', '1001', '0110')\n",
    "life.draw()\n",
    "#savefig('chap06-1.pdf')"
   ]
  },
  {
   "cell_type": "markdown",
   "metadata": {},
   "source": [
    "Here's what it looks like after one step:"
   ]
  },
  {
   "cell_type": "code",
   "execution_count": 8,
   "metadata": {},
   "outputs": [
    {
     "data": {
      "image/png": "[encoded data removed]",
      "text/plain": [
       "<Figure size 640x480 with 1 Axes>"
      ]
     },
     "metadata": {},
     "output_type": "display_data"
    },
    {
     "data": {
      "image/png": "[encoded data removed]",
      "text/plain": [
       "<Figure size 640x480 with 1 Axes>"
      ]
     },
     "metadata": {},
     "output_type": "display_data"
    }
   ],
   "source": [
    "life.step()\n",
    "life.draw()\n",
    "life.animate(1,1) #draw doesn't display anything so have to animate? but why 2 frames"
   ]
  },
  {
   "cell_type": "markdown",
   "metadata": {},
   "source": [
    "A toad is an oscillator with period 2.  Here's are its two configurations:"
   ]
  },
  {
   "cell_type": "code",
   "execution_count": 9,
   "metadata": {},
   "outputs": [],
   "source": [
    "# toad\n",
    "plt.figure(figsize=(10, 5))\n",
    "plt.subplot(1, 2, 1)\n",
    "life = make_life(4, 4, 1, 0, '0111', '1110')\n",
    "life.draw()\n",
    "\n",
    "plt.subplot(1, 2, 2)\n",
    "life.step()\n",
    "life.draw()\n",
    "\n",
    "#savefig('chap06-2.pdf')"
   ]
  },
  {
   "cell_type": "markdown",
   "metadata": {},
   "source": [
    "Here's what the toad looks like as an animation."
   ]
  },
  {
   "cell_type": "code",
   "execution_count": 10,
   "metadata": {},
   "outputs": [
    {
     "data": {
      "image/png": "[encoded data removed]",
      "text/plain": [
       "<Figure size 640x480 with 1 Axes>"
      ]
     },
     "metadata": {},
     "output_type": "display_data"
    }
   ],
   "source": [
    "life = make_life(4, 4, 1, 0, '0111', '1110')\n",
    "life.animate(10, 0.5) #frames, frmae rate"
   ]
  },
  {
   "cell_type": "markdown",
   "metadata": {},
   "source": [
    "A glider is a spaceship that translates one unit down and to the right with period 4. "
   ]
  },
  {
   "cell_type": "code",
   "execution_count": 11,
   "metadata": {},
   "outputs": [],
   "source": [
    "# glider\n",
    "plt.figure(figsize=(12, 4))\n",
    "\n",
    "glider = ['010', '001', '111']\n",
    "life = make_life(4, 4, 0, 0, *glider)\n",
    "\n",
    "for i in range(1, 6):\n",
    "    plt.subplot(1, 5, i)\n",
    "    life.draw()\n",
    "    life.step()\n",
    "    \n",
    "#savefig('chap06-3.pdf')"
   ]
  },
  {
   "cell_type": "markdown",
   "metadata": {},
   "source": [
    "Here's an animation showing glider movement."
   ]
  },
  {
   "cell_type": "code",
   "execution_count": 12,
   "metadata": {},
   "outputs": [
    {
     "data": {
      "image/png": "[encoded data removed]",
      "text/plain": [
       "<Figure size 640x480 with 1 Axes>"
      ]
     },
     "metadata": {},
     "output_type": "display_data"
    }
   ],
   "source": [
    "life = make_life(10, 10, 0, 0, '010', '001', '111')\n",
    "life.animate(frames=28, interval=0.2)"
   ]
  },
  {
   "cell_type": "markdown",
   "metadata": {},
   "source": [
    "**Exercise:** If you start GoL from a random configuration, it usually runs chaotically for a while and then settles into stable patterns that include blinkers, blocks, and beehives, ships, boats, and loaves.\n",
    "\n",
    "For a list of common \"natually\" occurring patterns, see Achim Flammenkamp, \"[Most seen natural occurring ash objects in Game of Life](http://wwwhomes.uni-bielefeld.de/achim/freq_top_life.html)\",\n",
    "\n",
    "Start GoL in a random state and run it until it stabilizes (try 1000 steps).\n",
    "What stable patterns can you identify?\n",
    "\n",
    "Hint: use `np.random.randint`."
   ]
  },
  {
   "cell_type": "code",
   "execution_count": 13,
   "metadata": {},
   "outputs": [
    {
     "data": {
      "image/png": "[encoded data removed]",
      "text/plain": [
       "<Figure size 640x480 with 1 Axes>"
      ]
     },
     "metadata": {},
     "output_type": "display_data"
    }
   ],
   "source": [
    "def list2string(list):\n",
    "    myStr = ''\n",
    "    for i in list:\n",
    "        myStr += str(i)\n",
    "    return myStr\n",
    "def randomStartList(x,y):\n",
    "    row = [None] * x\n",
    "    table = [None] * y\n",
    "    for i in range(y):\n",
    "        for k in range(x):\n",
    "            row[k] = np.random.randint(0,2)\n",
    "        table[i] = list2string(row)\n",
    "    return table\n",
    "\n",
    "start_cond = randomStartList(10,10)\n",
    "#ran it a few times and recorded start positions that produced something interesting\n",
    "#['1011000111', '0111000111', '0011000101', '0011010110', '1001111100',\n",
    "# '0110000101', '0110110000', '0100011101', '0011000100', '1011001000'] block\n",
    "\n",
    "#['1011000111', '0111000111', '0011000101', '0011010110', '1001111100',\n",
    "# '0110000101', '0110110000', '0100011101', '0011000100', '1011001000'] block + beehive\n",
    "\n",
    "#['1111100000', '0001111110', '0000001010', '1111100111', '1111101011',\n",
    "# '0110001010', '1010111111', '1010000001', '1110100111', '0010000000'] 2x blinker\n",
    "\n",
    "#['1111100000', '0001111110', '0000001010', '1111100111', '1111101011',\n",
    "# '0110001010', '1010111111', '1010000001', '1110100111', '0010000000'] beehive + boat\n",
    "\n",
    "#['1011000000', '1001111000', '1100011010', '1000111011', '0101110011',\n",
    "# '0001001100', '1010000011', '1111110101', '0010111010', '1010100111'] toad! + 3x blocks\n",
    "life = make_life(11, 11, 0, 0, *start_cond)\n",
    "life.animate(frames=100, interval=0.0001)\n"
   ]
  },
  {
   "cell_type": "code",
   "execution_count": 14,
   "metadata": {},
   "outputs": [
    {
     "name": "stdout",
     "output_type": "stream",
     "text": [
      "['0101011011', '0101100111', '0010110001', '0101100010', '0111101101', '1011100011', '0110110101', '1100110000', '1111001100', '1101001111']\n"
     ]
    }
   ],
   "source": [
    "print(start_cond) "
   ]
  },
  {
   "cell_type": "markdown",
   "metadata": {},
   "source": [
    "## Methuselas\n",
    "\n",
    "Most initial conditions run for a short time and reach a steady state.  But some initial conditional run for a surprisingly long time; they are called [Methuselahs](https://en.wikipedia.org/wiki/Methuselah_(cellular_automaton)).\n",
    "\n",
    "The r-pentomino starts with only five live cells, but it runs for 1103 steps before stabilizing."
   ]
  },
  {
   "cell_type": "code",
   "execution_count": 15,
   "metadata": {},
   "outputs": [],
   "source": [
    "# r pentomino\n",
    "rpent = ['011', '110', '010']\n",
    "life = make_life(3, 3, 0, 0, *rpent)\n",
    "life.draw()"
   ]
  },
  {
   "cell_type": "markdown",
   "metadata": {},
   "source": [
    "Here are the start and finish configurations."
   ]
  },
  {
   "cell_type": "code",
   "execution_count": 16,
   "metadata": {},
   "outputs": [
    {
     "name": "stdout",
     "output_type": "stream",
     "text": [
      "Saving figure to file chap06-4.pdf\n"
     ]
    }
   ],
   "source": [
    "# r pentomino\n",
    "plt.figure(figsize=(10, 5))\n",
    "plt.subplot(1, 2, 1)\n",
    "life = make_life(120, 120, 50, 45, *rpent)\n",
    "life.draw()\n",
    "\n",
    "for i in range(1103):\n",
    "    life.step()\n",
    "\n",
    "plt.subplot(1, 2, 2)\n",
    "life.draw()\n",
    "\n",
    "savefig('chap06-4.pdf')"
   ]
  },
  {
   "cell_type": "markdown",
   "metadata": {},
   "source": [
    "And here's the animation that shows the steps."
   ]
  },
  {
   "cell_type": "code",
   "execution_count": 17,
   "metadata": {},
   "outputs": [
    {
     "data": {
      "image/png": "[encoded data removed]",
      "text/plain": [
       "<Figure size 640x480 with 1 Axes>"
      ]
     },
     "metadata": {},
     "output_type": "display_data"
    }
   ],
   "source": [
    "life = make_life(120, 120, 50, 45, *rpent)\n",
    "life.animate(frames=1200)"
   ]
  },
  {
   "cell_type": "markdown",
   "metadata": {},
   "source": [
    "## Conway's conjecture\n",
    "\n",
    "Most initial conditions run for a short time and reach a steady state.  Some, like the r-pentomino, run for a long time before they reach steady state.  Another example is [rabbits](https://web.archive.org/web/20081221152607/http://www.argentum.freeserve.co.uk/lex_r.htm#rabbits), which starts with only nine cells and runs 17331 steps before reaching steady state.\n",
    "\n",
    "Methuselahs like these prompted Conway's conjecture, which asks whether there are any initial conditions where the number of live cells is unbounded."
   ]
  },
  {
   "cell_type": "markdown",
   "metadata": {},
   "source": [
    "Gosper's glider gun was the first entity to be discovered that produces an unbounded number of live cells, which refutes Conway's conjecture."
   ]
  },
  {
   "cell_type": "code",
   "execution_count": 91,
   "metadata": {},
   "outputs": [
    {
     "name": "stdout",
     "output_type": "stream",
     "text": [
      "<class 'list'>\n"
     ]
    }
   ],
   "source": [
    "glider_gun = [\n",
    "    '000000000000000000000000100000000000',\n",
    "    '000000000000000000000010100000000000',\n",
    "    '000000000000110000001100000000000011',\n",
    "    '000000000001000100001100000000000011',\n",
    "    '110000000010000010001100000000000000',\n",
    "    '110000000010001011000010100000000000',\n",
    "    '000000000010000010000000100000000000',\n",
    "    '000000000001000100000000000000000000',\n",
    "    '000000000000110000000000000000000000'\n",
    "]\n",
    "print(type(glider_gun))"
   ]
  },
  {
   "cell_type": "markdown",
   "metadata": {},
   "source": [
    "Here's the initial configuration:"
   ]
  },
  {
   "cell_type": "code",
   "execution_count": 19,
   "metadata": {},
   "outputs": [
    {
     "name": "stdout",
     "output_type": "stream",
     "text": [
      "Saving figure to file chap06-5.pdf\n"
     ]
    }
   ],
   "source": [
    "life = make_life(11, 38, 1, 1, *glider_gun)\n",
    "life.draw()\n",
    "\n",
    "savefig('chap06-5.pdf')"
   ]
  },
  {
   "cell_type": "markdown",
   "metadata": {},
   "source": [
    "And here's what it looks like running:"
   ]
  },
  {
   "cell_type": "code",
   "execution_count": 20,
   "metadata": {},
   "outputs": [
    {
     "data": {
      "image/png": "[encoded data removed]",
      "text/plain": [
       "<Figure size 640x480 with 1 Axes>"
      ]
     },
     "metadata": {},
     "output_type": "display_data"
    }
   ],
   "source": [
    "life = make_life(50, 50, 2, 2, *glider_gun)\n",
    "life.animate(frames=200)"
   ]
  },
  {
   "cell_type": "markdown",
   "metadata": {},
   "source": [
    "Another way to refute Conway's conjecture is a [puffer train](https://en.wikipedia.org/wiki/Puffer_train)."
   ]
  },
  {
   "cell_type": "markdown",
   "metadata": {},
   "source": [
    "## Implementing Game of Life\n",
    "\n",
    "As an example, I'll start with an array of random cells:"
   ]
  },
  {
   "cell_type": "code",
   "execution_count": 21,
   "metadata": {},
   "outputs": [
    {
     "name": "stdout",
     "output_type": "stream",
     "text": [
      "[[0 1 1 0 1 0 1 0 1 1]\n",
      " [0 0 0 1 1 0 1 0 0 1]\n",
      " [0 0 1 0 1 0 1 0 1 1]\n",
      " [1 0 0 1 0 1 1 1 1 0]\n",
      " [0 0 0 0 0 1 0 0 0 0]\n",
      " [0 1 0 0 1 0 1 0 0 0]\n",
      " [1 1 1 0 0 1 0 0 0 1]\n",
      " [0 0 0 0 0 1 1 1 1 1]\n",
      " [0 1 1 1 0 0 1 1 0 1]\n",
      " [1 0 1 0 0 0 0 0 1 0]]\n"
     ]
    }
   ],
   "source": [
    "a = np.random.randint(2, size=(10, 10), dtype=np.uint8)\n",
    "print(a)"
   ]
  },
  {
   "cell_type": "markdown",
   "metadata": {},
   "source": [
    "The following is a straightforward translation of the GoL rules using `for` loops and array slicing."
   ]
  },
  {
   "cell_type": "code",
   "execution_count": 22,
   "metadata": {},
   "outputs": [
    {
     "name": "stdout",
     "output_type": "stream",
     "text": [
      "[[0 0 0 0 0 0 0 0 0 0]\n",
      " [0 1 0 0 1 0 1 0 0 0]\n",
      " [0 0 1 0 0 0 0 0 0 0]\n",
      " [0 0 0 1 0 0 0 0 1 0]\n",
      " [0 0 0 0 0 0 0 0 0 0]\n",
      " [0 1 1 0 1 0 1 0 0 0]\n",
      " [0 1 1 0 1 0 0 0 0 0]\n",
      " [0 0 0 1 1 1 0 0 0 0]\n",
      " [0 1 1 1 0 1 0 0 0 0]\n",
      " [0 0 0 0 0 0 0 0 0 0]]\n"
     ]
    }
   ],
   "source": [
    "b = np.zeros_like(a)\n",
    "rows, cols = a.shape\n",
    "for i in range(1, rows-1):\n",
    "    for j in range(1, cols-1):\n",
    "        state = a[i, j]\n",
    "        neighbors = a[i-1:i+2, j-1:j+2]\n",
    "        k = np.sum(neighbors) - state\n",
    "        if state:\n",
    "            if k==2 or k==3:\n",
    "                b[i, j] = 1\n",
    "        else:\n",
    "            if k == 3:\n",
    "                b[i, j] = 1\n",
    "\n",
    "print(b)"
   ]
  },
  {
   "cell_type": "markdown",
   "metadata": {},
   "source": [
    "Here's a smaller, faster version using cross correlation."
   ]
  },
  {
   "cell_type": "code",
   "execution_count": 23,
   "metadata": {},
   "outputs": [
    {
     "name": "stdout",
     "output_type": "stream",
     "text": [
      "[[0 0 1 0 1 0 0 1 1 1]\n",
      " [0 1 0 0 1 0 1 0 0 0]\n",
      " [0 0 1 0 0 0 0 0 0 1]\n",
      " [0 0 0 1 0 0 0 0 1 1]\n",
      " [0 0 0 0 0 0 0 0 0 0]\n",
      " [1 1 1 0 1 0 1 0 0 0]\n",
      " [1 1 1 0 1 0 0 0 0 1]\n",
      " [1 0 0 1 1 1 0 0 0 1]\n",
      " [0 1 1 1 0 1 0 0 0 1]\n",
      " [0 0 1 1 0 0 0 1 1 0]]\n"
     ]
    }
   ],
   "source": [
    "from scipy.signal import correlate2d\n",
    "\n",
    "kernel = np.array([[1, 1, 1],\n",
    "                   [1, 0, 1],\n",
    "                   [1, 1, 1]])\n",
    "\n",
    "c = correlate2d(a, kernel, mode='same')\n",
    "b = (c==3) | (c==2) & a\n",
    "b = b.astype(np.uint8)\n",
    "print(b)"
   ]
  },
  {
   "cell_type": "markdown",
   "metadata": {},
   "source": [
    "Using a kernel that gives a weight of 10 to the center cell, we can simplify the logic a little."
   ]
  },
  {
   "cell_type": "code",
   "execution_count": 24,
   "metadata": {},
   "outputs": [
    {
     "name": "stdout",
     "output_type": "stream",
     "text": [
      "[[0 0 1 0 1 0 0 1 1 1]\n",
      " [0 1 0 0 1 0 1 0 0 0]\n",
      " [0 0 1 0 0 0 0 0 0 1]\n",
      " [0 0 0 1 0 0 0 0 1 1]\n",
      " [0 0 0 0 0 0 0 0 0 0]\n",
      " [1 1 1 0 1 0 1 0 0 0]\n",
      " [1 1 1 0 1 0 0 0 0 1]\n",
      " [1 0 0 1 1 1 0 0 0 1]\n",
      " [0 1 1 1 0 1 0 0 0 1]\n",
      " [0 0 1 1 0 0 0 1 1 0]]\n"
     ]
    }
   ],
   "source": [
    "kernel = np.array([[1, 1, 1],\n",
    "                   [1,10, 1],\n",
    "                   [1, 1, 1]])\n",
    "\n",
    "c = correlate2d(a, kernel, mode='same')\n",
    "b = (c==3) | (c==12) | (c==13)\n",
    "b = b.astype(np.uint8)\n",
    "print(b)"
   ]
  },
  {
   "cell_type": "markdown",
   "metadata": {},
   "source": [
    "More importantly, the second version of the kernel makes it possible to use a look up table to get the next state, which is faster and even more concise."
   ]
  },
  {
   "cell_type": "code",
   "execution_count": 28,
   "metadata": {},
   "outputs": [
    {
     "name": "stdout",
     "output_type": "stream",
     "text": [
      "[[0 0 1 0 1 0 0 1 1 1]\n",
      " [0 1 0 0 1 0 1 0 0 0]\n",
      " [0 0 1 0 0 0 0 0 0 1]\n",
      " [0 0 0 1 0 0 0 0 1 1]\n",
      " [0 0 0 0 0 0 0 0 0 0]\n",
      " [1 1 1 0 1 0 1 0 0 0]\n",
      " [1 1 1 0 1 0 0 0 0 1]\n",
      " [1 0 0 1 1 1 0 0 0 1]\n",
      " [0 1 1 1 0 1 0 0 0 1]\n",
      " [0 0 1 1 0 0 0 1 1 0]]\n"
     ]
    }
   ],
   "source": [
    "table = np.zeros(20, dtype=np.uint8)\n",
    "table[[3, 12, 13]] = 1\n",
    "c = correlate2d(a, kernel, mode='same')\n",
    "b = table[c]\n",
    "print(b)"
   ]
  },
  {
   "cell_type": "markdown",
   "metadata": {},
   "source": [
    "**Exercise:** Many Game of Life patterns are available in portable file formats.  For one source, see http://www.conwaylife.com/wiki/Main_Page.\n",
    "\n",
    "Write a function to parse one of these formats and initialize the array."
   ]
  },
  {
   "cell_type": "code",
   "execution_count": 83,
   "metadata": {},
   "outputs": [],
   "source": [
    "#Going to do plain text as it seems like the simplest to understant\n",
    "download('https://conwaylife.com/patterns/gosperglidergun.cells')"
   ]
  },
  {
   "cell_type": "code",
   "execution_count": 103,
   "metadata": {},
   "outputs": [
    {
     "data": {
      "image/png": "[encoded data removed]",
      "text/plain": [
       "<Figure size 640x480 with 1 Axes>"
      ]
     },
     "metadata": {},
     "output_type": "display_data"
    }
   ],
   "source": [
    "def parsePlainText(fileName):\n",
    "    file = open(fileName)\n",
    "    type(file)\n",
    "    lines = file.readlines()\n",
    "    parsedArray = []\n",
    "    parsedRow = ''\n",
    "    firstRow = True\n",
    "    max = 0\n",
    "\n",
    "    for single_line in lines: #finding longest line in order to pad other rows so matrix sizing works\n",
    "        if len(single_line) > max and single_line[0] != '!':\n",
    "            max = len(single_line)\n",
    "    print(max)\n",
    "\n",
    "    for single_line in lines:\n",
    "        if single_line[0] != '!':   #interesting its element 0, thought started at 1\n",
    "            for char in single_line:\n",
    "                if char == 'O' or char == 'o' or char == '0': #not sure which char it is\n",
    "                    parsedRow +='1'\n",
    "                else:\n",
    "                    parsedRow += '0'\n",
    "            while len(parsedRow) < max: #pad with zeroes since file format ends with last live cell\n",
    "                parsedRow += '0'\n",
    "            parsedArray.append(parsedRow)\n",
    "            parsedRow = ''\n",
    "    return parsedArray\n",
    "\n",
    "#testing\n",
    "print(parsedArray)\n",
    "life = make_life(50, 50, 2 ,2, *parsePlainText('gosperglidergun.cells'))\n",
    "life.draw()\n",
    "life.animate(frames=200)"
   ]
  },
  {
   "cell_type": "markdown",
   "metadata": {},
   "source": [
    "## Highlife\n",
    "\n",
    "One variation of GoL, called \"Highlife\", has the same rules as GoL, plus one additional rule: a dead cell with 6 neighbors comes to life.\n",
    "\n",
    "You can try out different rules by inheriting from `Life` and changing the lookup table.\n",
    "\n",
    "**Exercise:** Modify the table below to add the new rule."
   ]
  },
  {
   "cell_type": "code",
   "execution_count": null,
   "metadata": {},
   "outputs": [],
   "source": [
    "# Starter code\n",
    "\n",
    "class MyLife(Life):\n",
    "    \"\"\"Implementation of Life.\"\"\"\n",
    "\n",
    "    table = np.zeros(20, dtype=np.uint8)\n",
    "    table[[3, 12, 13]] = 1"
   ]
  },
  {
   "cell_type": "code",
   "execution_count": 105,
   "metadata": {},
   "outputs": [
    {
     "name": "stdout",
     "output_type": "stream",
     "text": [
      "[0 0 0 1 0 0 0 0 0 0 0 0 1 1 0 0 0 0 0 0]\n"
     ]
    }
   ],
   "source": [
    "table = np.zeros(20, dtype=np.uint8)\n",
    "table[[3, 12, 13]] = 1\n",
    "print(table)"
   ]
  },
  {
   "cell_type": "markdown",
   "metadata": {},
   "source": [
    "One of the more interesting patterns in Highlife is the replicator, which has the following initial configuration."
   ]
  },
  {
   "cell_type": "code",
   "execution_count": null,
   "metadata": {},
   "outputs": [],
   "source": [
    "replicator = [\n",
    "    '00111',\n",
    "    '01001',\n",
    "    '10001',\n",
    "    '10010',\n",
    "    '11100'\n",
    "]"
   ]
  },
  {
   "cell_type": "markdown",
   "metadata": {},
   "source": [
    "Make a `MyLife` object with `n=100` and use `add_cells` to put a replicator near the middle.\n",
    "\n",
    "Make an animation with about 200 frames and see how it behaves."
   ]
  },
  {
   "cell_type": "code",
   "execution_count": null,
   "metadata": {},
   "outputs": [],
   "source": [
    "# Solution goes here"
   ]
  },
  {
   "cell_type": "markdown",
   "metadata": {},
   "source": [
    "**Exercise: (Optional)** \n",
    "\n",
    "If you generalize the Turing machine to two dimensions, or\n",
    "add a read-write head to a 2-D CA, the result is a\n",
    "cellular automaton called a Turmite.  It is named after a\n",
    "termite because of the way the read-write head moves, but\n",
    "spelled wrong as an homage to Alan Turing.\n",
    "\n",
    "The most famous Turmite is Langton's Ant, discovered by Chris Langton\n",
    "in 1986.  See http://en.wikipedia.org/wiki/Langton_ant.\n",
    "\n",
    "The ant is a read-write head with\n",
    "four states, which you can think of as facing north, south,\n",
    "east or west.  The cells have two states, black and white.\n",
    "\n",
    "The rules are simple.  During each time step, the ant checks the color\n",
    "of the cell it is on.  If black, the ant turns to the right,\n",
    "changes the cell to white, and moves forward one space.  If the cell\n",
    "is white, the ant turns left, changes the cell to black, and moves\n",
    "forward.\n",
    "\n",
    "Given a simple world, a simple set of rules, and only one moving part,\n",
    "you might expect to see simple behavior---but you should know\n",
    "better by now.  Starting with all white cells, Langton's ant\n",
    "moves in a seemingly random pattern for more than 10 000 steps\n",
    "before it enters a cycle with a period of 104 steps.  After\n",
    "each cycle, the ant is translated diagonally, so it leaves\n",
    "a trail called the \"highway\".\n",
    "\n",
    "Write an implementation of Langton's Ant."
   ]
  },
  {
   "cell_type": "code",
   "execution_count": null,
   "metadata": {},
   "outputs": [],
   "source": [
    "# Solution goes here"
   ]
  },
  {
   "cell_type": "code",
   "execution_count": null,
   "metadata": {},
   "outputs": [],
   "source": [
    "n = 5\n",
    "turmite = Turmite(n)\n",
    "turmite.draw()"
   ]
  },
  {
   "cell_type": "code",
   "execution_count": null,
   "metadata": {},
   "outputs": [],
   "source": [
    "turmite.step()\n",
    "turmite.draw()"
   ]
  },
  {
   "cell_type": "code",
   "execution_count": null,
   "metadata": {},
   "outputs": [],
   "source": [
    "# Solution goes here"
   ]
  },
  {
   "cell_type": "code",
   "execution_count": null,
   "metadata": {},
   "outputs": [],
   "source": [
    "# And a larger version with 1000 steps\n",
    "\n",
    "turmite = Turmite(n=30)\n",
    "anim = turmite.animate(frames=1000)"
   ]
  },
  {
   "cell_type": "code",
   "execution_count": null,
   "metadata": {},
   "outputs": [],
   "source": [
    "# Solution goes here"
   ]
  }
 ],
 "metadata": {
  "kernelspec": {
   "display_name": "Python 3",
   "language": "python",
   "name": "python3"
  },
  "language_info": {
   "codemirror_mode": {
    "name": "ipython",
    "version": 3
   },
   "file_extension": ".py",
   "mimetype": "text/x-python",
   "name": "python",
   "nbconvert_exporter": "python",
   "pygments_lexer": "ipython3",
   "version": "3.8.8"
  }
 },
 "nbformat": 4,
 "nbformat_minor": 4
}
