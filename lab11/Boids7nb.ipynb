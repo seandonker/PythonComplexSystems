{
 "cells": [
  {
   "cell_type": "markdown",
   "metadata": {},
   "source": [
    "# Flocks, Herds, and Traffic Jams\n",
    "\n",
    "Code examples from [Think Complexity, 2nd edition](https://thinkcomplex.com).\n",
    "\n",
    "Copyright 2016 Allen Downey, [MIT License](http://opensource.org/licenses/MIT)"
   ]
  },
  {
   "cell_type": "markdown",
   "metadata": {},
   "source": [
    "This is an adaptation of Allen Downey's `Boids7.py` to the Jupyter Notebook. If you are using the ENGG\\*3130 Virtual Lab (JupyterHub deployment) **DO NOT RUN THIS ON THE DEFAULT JUPYTERLAB SETTING**. There is an incompatibility between JupyterLab on JupyterHub and Jupyter VPython. If you run this in JupyterLab, it will pin the CPU for your container, and multiplying that by the number of students will equal a hung server.\n",
    "\n",
    "It can be run in \"Classic notebook\". To access the classic Notebook, replace `/lab` in the URL with `/tree`, or use the “Launch Classic Notebook” item in JupyterLab’s Help menu. "
   ]
  },
  {
   "cell_type": "markdown",
   "metadata": {},
   "source": [
    "Controls:\n",
    "- Double-click: place carrot\n",
    "- Shift-drag: pan\n",
    "- Control-drag: rotate\n",
    "- Alt(Option)-drag: zoom"
   ]
  },
  {
   "cell_type": "code",
   "execution_count": 1,
   "metadata": {},
   "outputs": [
    {
     "data": {
      "text/html": [
       "<div id=\"glowscript\" class=\"glowscript\"></div>"
      ],
      "text/plain": [
       "<IPython.core.display.HTML object>"
      ]
     },
     "metadata": {},
     "output_type": "display_data"
    },
    {
     "data": {
      "application/javascript": [
       "if (typeof Jupyter !== \"undefined\") { window.__context = { glowscript_container: $(\"#glowscript\").removeAttr(\"id\")};}else{ element.textContent = ' ';}"
      ],
      "text/plain": [
       "<IPython.core.display.Javascript object>"
      ]
     },
     "metadata": {},
     "output_type": "display_data"
    },
    {
     "data": {
      "text/html": [
       "<div id=\"glowscript\" class=\"glowscript\"></div>"
      ],
      "text/plain": [
       "<IPython.core.display.HTML object>"
      ]
     },
     "metadata": {},
     "output_type": "display_data"
    },
    {
     "data": {
      "application/javascript": [
       "if (typeof Jupyter !== \"undefined\") { window.__context = { glowscript_container: $(\"#glowscript\").removeAttr(\"id\")};}else{ element.textContent = ' ';}"
      ],
      "text/plain": [
       "<IPython.core.display.Javascript object>"
      ]
     },
     "metadata": {},
     "output_type": "display_data"
    }
   ],
   "source": [
    "\"\"\" Code example from Think Complexity, by Allen Downey.\n",
    "\n",
    "Original code by Matt Aasted, modified by Allen Downey.\n",
    "\n",
    "Based on Reynolds, \"Flocks, Herds and Schools\" and\n",
    "Flake, \"The Computational Beauty of Nature.\"\n",
    "\n",
    "Copyright 2011 Allen B. Downey.\n",
    "Distributed under the MIT License.\n",
    "\"\"\"\n",
    "try:\n",
    "    from vpython import *\n",
    "except:\n",
    "    print(\"This program requires VPython 7, which you can read about\")\n",
    "    print(\"at http://vpython.org/.  If you are using Anaconda, you can\")\n",
    "    print(\"install VPython by running the following on the command line:\")\n",
    "    print(\"conda install -c vpython vpython\")\n",
    "    raise ImportError\n",
    "\n",
    "scene = canvas() \n",
    "import numpy as np"
   ]
  },
  {
   "cell_type": "markdown",
   "metadata": {},
   "source": [
    "Note that the canvas will be placed immediately above this cell (i.e. you may need to scroll up after executing the cells below)."
   ]
  },
  {
   "cell_type": "code",
   "execution_count": 2,
   "metadata": {},
   "outputs": [],
   "source": [
    "null_vector = vector(0,0,0)\n",
    "\n",
    "\n",
    "def random_vector(a, b):\n",
    "    \"\"\"Create a vector with each element uniformly distributed in [a, b).\"\"\"\n",
    "    coords = np.random.uniform(a, b, size=3)\n",
    "    return vector(*coords)\n",
    "\n",
    "\n",
    "def limit_vector(vect):\n",
    "    \"\"\"If the magnitude is greater than 1, set it to 1\"\"\"\n",
    "    if vect.mag > 1:\n",
    "        vect.mag = 1\n",
    "    return vect\n",
    "\n",
    "\n",
    "class Boid(cone):\n",
    "    \"\"\"A Boid is a VPython cone with a velocity and an axis.\"\"\"\n",
    "\n",
    "    def __init__(self, radius=0.03, length=0.1):\n",
    "        pos = random_vector(0, 1)\n",
    "        self.vel = random_vector(0, 1).norm()\n",
    "        cone.__init__(self, pos=pos, radius=radius, length=length)\n",
    "        self.axis = length * self.vel\n",
    "\n",
    "    def get_neighbors(self, boids, radius, angle):\n",
    "        \"\"\"Return a list of neighbors within a field of view.\n",
    "\n",
    "        boids: list of boids\n",
    "        radius: field of view radius\n",
    "        angle: field of view angle in radians\n",
    "\n",
    "        returns: list of Boid\n",
    "        \"\"\"\n",
    "        neighbors = []\n",
    "        for boid in boids:\n",
    "            if boid is self:\n",
    "                continue\n",
    "            offset = boid.pos - self.pos\n",
    "\n",
    "            # if not in range, skip it\n",
    "            if offset.mag > radius:\n",
    "                continue\n",
    "\n",
    "            # if not within viewing angle, skip it\n",
    "            diff = self.vel.diff_angle(offset)\n",
    "            if abs(diff) > angle:\n",
    "                continue\n",
    "\n",
    "            # otherwise add it to the list\n",
    "            neighbors.append(boid)\n",
    "\n",
    "        return neighbors\n",
    "\n",
    "    def center(self, boids, radius=1, angle=1):\n",
    "        \"\"\"Find the center of mass of other boids in range and\n",
    "        return a vector pointing toward it.\"\"\"\n",
    "        neighbors = self.get_neighbors(boids, radius, angle)\n",
    "        vecs = [boid.pos for boid in neighbors]\n",
    "        return self.vector_toward_center(vecs)\n",
    "\n",
    "    def vector_toward_center(self, vecs):\n",
    "        \"\"\"Vector from self to the mean of vecs.\n",
    "\n",
    "        vecs: sequence of vector\n",
    "\n",
    "        returns: Vector\n",
    "        \"\"\"\n",
    "        if vecs:\n",
    "            center = np.mean(vecs)\n",
    "            toward = vector(center - self.pos)\n",
    "            return limit_vector(toward)\n",
    "        else:\n",
    "            return null_vector\n",
    "\n",
    "    def avoid(self, boids, carrot, radius=0.3, angle=np.pi):\n",
    "        \"\"\"Find the center of mass of all objects in range and\n",
    "        return a vector in the opposite direction, with magnitude\n",
    "        proportional to the inverse of the distance (up to a limit).\"\"\"\n",
    "        objects = boids + [carrot]\n",
    "        neighbors = self.get_neighbors(objects, radius, angle)\n",
    "        vecs = [boid.pos for boid in neighbors]\n",
    "        return -self.vector_toward_center(vecs)\n",
    "\n",
    "    def align(self, boids, radius=0.5, angle=1):\n",
    "        \"\"\"Return the average heading of other boids in range.\n",
    "\n",
    "        boids: list of Boids\n",
    "        \"\"\"\n",
    "        neighbors = self.get_neighbors(boids, radius, angle)\n",
    "        vecs = [boid.vel for boid in neighbors]\n",
    "        return self.vector_toward_center(vecs)\n",
    "\n",
    "    def love(self, carrot):\n",
    "        \"\"\"Returns a vector pointing toward the carrot.\"\"\"\n",
    "        toward = carrot.pos - self.pos\n",
    "        return limit_vector(toward)\n",
    "\n",
    "    def set_goal(self, boids, carrot):\n",
    "        \"\"\"Sets the goal to be the weighted sum of the goal vectors.\"\"\"\n",
    "\n",
    "        # weights for various rules\n",
    "        w_avoid = 10\n",
    "        w_center = 3\n",
    "        w_align = 1\n",
    "        w_love = 10\n",
    "\n",
    "        self.goal = (w_center * self.center(boids) +\n",
    "                     w_avoid * self.avoid(boids, carrot) +\n",
    "                     w_align * self.align(boids) +\n",
    "                     w_love * self.love(carrot))\n",
    "        self.goal.mag = 1\n",
    "\n",
    "    def move(self, mu=0.1, dt=0.1):\n",
    "        \"\"\"Update the velocity, position and axis vectors.\n",
    "\n",
    "        mu: how fast the boids can turn (maneuverability).\n",
    "        dt: time step\n",
    "        \"\"\"\n",
    "\n",
    "        self.vel = (1-mu) * self.vel + mu * self.goal\n",
    "        self.vel.mag = 1\n",
    "        self.pos += dt * self.vel\n",
    "        self.axis = self.length * self.vel\n",
    "\n",
    "\n",
    "class World(object):\n",
    "\n",
    "    def __init__(self, n=10):\n",
    "        \"\"\"Create n Boids and one carrot.\n",
    "\n",
    "        tracking: indicates whether the carrot follows the mouse\n",
    "        \"\"\"\n",
    "        self.boids = [Boid() for i in range(n)]\n",
    "        self.carrot = sphere(pos=vector(1,0,0),\n",
    "                             radius=0.1,\n",
    "                             color=vector(1,0,0))\n",
    "        self.tracking = False\n",
    "\n",
    "    def step(self):\n",
    "        \"\"\"Compute one time step.\"\"\"\n",
    "        # move the boids\n",
    "        for boid in self.boids:\n",
    "            boid.set_goal(self.boids, self.carrot)\n",
    "            boid.move()\n",
    "\n",
    "        # if we're tracking, move the carrot\n",
    "        if self.tracking:\n",
    "            self.carrot.pos = scene.mouse.pos"
   ]
  },
  {
   "cell_type": "code",
   "execution_count": 3,
   "metadata": {},
   "outputs": [
    {
     "data": {
      "application/javascript": [
       "if (typeof Jupyter !== \"undefined\") {require.undef(\"nbextensions/vpython_libraries/glow.min\");}else{element.textContent = ' ';}"
      ],
      "text/plain": [
       "<IPython.core.display.Javascript object>"
      ]
     },
     "metadata": {},
     "output_type": "display_data"
    },
    {
     "data": {
      "application/javascript": [
       "if (typeof Jupyter !== \"undefined\") {require.undef(\"nbextensions/vpython_libraries/glowcomm\");}else{element.textContent = ' ';}"
      ],
      "text/plain": [
       "<IPython.core.display.Javascript object>"
      ]
     },
     "metadata": {},
     "output_type": "display_data"
    },
    {
     "data": {
      "application/javascript": [
       "if (typeof Jupyter !== \"undefined\") {require.undef(\"nbextensions/vpython_libraries/jquery-ui.custom.min\");}else{element.textContent = ' ';}"
      ],
      "text/plain": [
       "<IPython.core.display.Javascript object>"
      ]
     },
     "metadata": {},
     "output_type": "display_data"
    },
    {
     "data": {
      "application/javascript": [
       "if (typeof Jupyter !== \"undefined\") {require([\"nbextensions/vpython_libraries/glow.min\"], function(){console.log(\"GLOW LOADED\");});}else{element.textContent = ' ';}"
      ],
      "text/plain": [
       "<IPython.core.display.Javascript object>"
      ]
     },
     "metadata": {},
     "output_type": "display_data"
    },
    {
     "data": {
      "application/javascript": [
       "if (typeof Jupyter !== \"undefined\") {require([\"nbextensions/vpython_libraries/glowcomm\"], function(){console.log(\"GLOWCOMM LOADED\");});}else{element.textContent = ' ';}"
      ],
      "text/plain": [
       "<IPython.core.display.Javascript object>"
      ]
     },
     "metadata": {},
     "output_type": "display_data"
    },
    {
     "data": {
      "application/javascript": [
       "if (typeof Jupyter !== \"undefined\") {require([\"nbextensions/vpython_libraries/jquery-ui.custom.min\"], function(){console.log(\"JQUERY LOADED\");});}else{element.textContent = ' ';}"
      ],
      "text/plain": [
       "<IPython.core.display.Javascript object>"
      ]
     },
     "metadata": {},
     "output_type": "display_data"
    },
    {
     "ename": "KeyboardInterrupt",
     "evalue": "",
     "output_type": "error",
     "traceback": [
      "\u001b[0;31m---------------------------------------------------------------------------\u001b[0m",
      "\u001b[0;31mKeyboardInterrupt\u001b[0m                         Traceback (most recent call last)",
      "\u001b[0;32m<ipython-input-3-c06137ba21bb>\u001b[0m in \u001b[0;36m<module>\u001b[0;34m\u001b[0m\n\u001b[1;32m     15\u001b[0m \u001b[0;34m\u001b[0m\u001b[0m\n\u001b[1;32m     16\u001b[0m \u001b[0;32mwhile\u001b[0m \u001b[0;36m1\u001b[0m\u001b[0;34m:\u001b[0m\u001b[0;34m\u001b[0m\u001b[0;34m\u001b[0m\u001b[0m\n\u001b[0;32m---> 17\u001b[0;31m     \u001b[0mrate\u001b[0m\u001b[0;34m(\u001b[0m\u001b[0;36m10\u001b[0m\u001b[0;34m)\u001b[0m\u001b[0;34m\u001b[0m\u001b[0;34m\u001b[0m\u001b[0m\n\u001b[0m\u001b[1;32m     18\u001b[0m     \u001b[0mworld\u001b[0m\u001b[0;34m.\u001b[0m\u001b[0mstep\u001b[0m\u001b[0;34m(\u001b[0m\u001b[0;34m)\u001b[0m\u001b[0;34m\u001b[0m\u001b[0;34m\u001b[0m\u001b[0m\n",
      "\u001b[0;32m/opt/conda/lib/python3.8/site-packages/vpython/rate_control.py\u001b[0m in \u001b[0;36m__call__\u001b[0;34m(self, N)\u001b[0m\n\u001b[1;32m    264\u001b[0m         \u001b[0mself\u001b[0m\u001b[0;34m.\u001b[0m\u001b[0mrval\u001b[0m \u001b[0;34m=\u001b[0m \u001b[0mN\u001b[0m\u001b[0;34m\u001b[0m\u001b[0;34m\u001b[0m\u001b[0m\n\u001b[1;32m    265\u001b[0m         \u001b[0;32mif\u001b[0m \u001b[0mself\u001b[0m\u001b[0;34m.\u001b[0m\u001b[0mrval\u001b[0m \u001b[0;34m<\u001b[0m \u001b[0;36m1\u001b[0m\u001b[0;34m:\u001b[0m \u001b[0;32mraise\u001b[0m \u001b[0mValueError\u001b[0m\u001b[0;34m(\u001b[0m\u001b[0;34m\"rate value must be greater than or equal to 1\"\u001b[0m\u001b[0;34m)\u001b[0m\u001b[0;34m\u001b[0m\u001b[0;34m\u001b[0m\u001b[0m\n\u001b[0;32m--> 266\u001b[0;31m         \u001b[0msuper\u001b[0m\u001b[0;34m(\u001b[0m\u001b[0m_RateKeeper2\u001b[0m\u001b[0;34m,\u001b[0m \u001b[0mself\u001b[0m\u001b[0;34m)\u001b[0m\u001b[0;34m.\u001b[0m\u001b[0m__call__\u001b[0m\u001b[0;34m(\u001b[0m\u001b[0mself\u001b[0m\u001b[0;34m.\u001b[0m\u001b[0mrval\u001b[0m\u001b[0;34m)\u001b[0m \u001b[0;31m## calls __call__ in rate_control.py\u001b[0m\u001b[0;34m\u001b[0m\u001b[0;34m\u001b[0m\u001b[0m\n\u001b[0m\u001b[1;32m    267\u001b[0m \u001b[0;34m\u001b[0m\u001b[0m\n\u001b[1;32m    268\u001b[0m \u001b[0;34m\u001b[0m\u001b[0m\n",
      "\u001b[0;32m/opt/conda/lib/python3.8/site-packages/vpython/rate_control.py\u001b[0m in \u001b[0;36m__call__\u001b[0;34m(self, maxRate)\u001b[0m\n\u001b[1;32m    212\u001b[0m                 \u001b[0;32mif\u001b[0m \u001b[0mself\u001b[0m\u001b[0;34m.\u001b[0m\u001b[0mwhenToRender\u001b[0m\u001b[0;34m[\u001b[0m\u001b[0mself\u001b[0m\u001b[0;34m.\u001b[0m\u001b[0mrenderIndex\u001b[0m\u001b[0;34m]\u001b[0m \u001b[0;34m==\u001b[0m \u001b[0mself\u001b[0m\u001b[0;34m.\u001b[0m\u001b[0mrateCount\u001b[0m\u001b[0;34m:\u001b[0m\u001b[0;34m\u001b[0m\u001b[0;34m\u001b[0m\u001b[0m\n\u001b[1;32m    213\u001b[0m                     \u001b[0msleeps\u001b[0m \u001b[0;34m+=\u001b[0m \u001b[0;36m1\u001b[0m\u001b[0;34m\u001b[0m\u001b[0;34m\u001b[0m\u001b[0m\n\u001b[0;32m--> 214\u001b[0;31m                     \u001b[0m_sleep\u001b[0m\u001b[0;34m(\u001b[0m\u001b[0mself\u001b[0m\u001b[0;34m.\u001b[0m\u001b[0minteractionPeriod\u001b[0m\u001b[0;34m)\u001b[0m\u001b[0;34m\u001b[0m\u001b[0;34m\u001b[0m\u001b[0m\n\u001b[0m\u001b[1;32m    215\u001b[0m                 \u001b[0;32melse\u001b[0m\u001b[0;34m:\u001b[0m\u001b[0;34m\u001b[0m\u001b[0;34m\u001b[0m\u001b[0m\n\u001b[1;32m    216\u001b[0m                     \u001b[0;32mbreak\u001b[0m\u001b[0;34m\u001b[0m\u001b[0;34m\u001b[0m\u001b[0m\n",
      "\u001b[0;32m/opt/conda/lib/python3.8/site-packages/vpython/rate_control.py\u001b[0m in \u001b[0;36m_sleep\u001b[0;34m(dt)\u001b[0m\n\u001b[1;32m     60\u001b[0m         \u001b[0mdtsleep\u001b[0m \u001b[0;34m=\u001b[0m \u001b[0mnticks\u001b[0m\u001b[0;34m*\u001b[0m\u001b[0m_tick\u001b[0m\u001b[0;34m\u001b[0m\u001b[0;34m\u001b[0m\u001b[0m\n\u001b[1;32m     61\u001b[0m         \u001b[0mt\u001b[0m \u001b[0;34m=\u001b[0m \u001b[0m_clock\u001b[0m\u001b[0;34m(\u001b[0m\u001b[0;34m)\u001b[0m\u001b[0;34m\u001b[0m\u001b[0;34m\u001b[0m\u001b[0m\n\u001b[0;32m---> 62\u001b[0;31m         \u001b[0mtime\u001b[0m\u001b[0;34m.\u001b[0m\u001b[0msleep\u001b[0m\u001b[0;34m(\u001b[0m\u001b[0mdtsleep\u001b[0m\u001b[0;34m)\u001b[0m\u001b[0;34m\u001b[0m\u001b[0;34m\u001b[0m\u001b[0m\n\u001b[0m\u001b[1;32m     63\u001b[0m         \u001b[0mt\u001b[0m \u001b[0;34m=\u001b[0m \u001b[0m_clock\u001b[0m\u001b[0;34m(\u001b[0m\u001b[0;34m)\u001b[0m\u001b[0;34m-\u001b[0m\u001b[0mt\u001b[0m\u001b[0;34m\u001b[0m\u001b[0;34m\u001b[0m\u001b[0m\n\u001b[1;32m     64\u001b[0m         \u001b[0mdt\u001b[0m \u001b[0;34m-=\u001b[0m \u001b[0mt\u001b[0m\u001b[0;34m\u001b[0m\u001b[0;34m\u001b[0m\u001b[0m\n",
      "\u001b[0;31mKeyboardInterrupt\u001b[0m: "
     ]
    }
   ],
   "source": [
    "n = 20\n",
    "size = 5\n",
    "\n",
    "world = World(n)\n",
    "scene.center = world.carrot.pos\n",
    "scene.autoscale = False\n",
    "\n",
    "def toggle_tracking(evt):\n",
    "    \"\"\"If we're currently tracking, turn it off, and vice versa.\n",
    "    \"\"\"\n",
    "    world.tracking = not world.tracking\n",
    "\n",
    "# when the user clicks, toggle tracking.\n",
    "scene.bind('click', toggle_tracking)\n",
    "\n",
    "while 1:\n",
    "    rate(10)\n",
    "    world.step()"
   ]
  },
  {
   "cell_type": "code",
   "execution_count": null,
   "metadata": {},
   "outputs": [],
   "source": []
  }
 ],
 "metadata": {
  "kernelspec": {
   "display_name": "Python 3",
   "language": "python",
   "name": "python3"
  },
  "language_info": {
   "codemirror_mode": {
    "name": "ipython",
    "version": 3
   },
   "file_extension": ".py",
   "mimetype": "text/x-python",
   "name": "python",
   "nbconvert_exporter": "python",
   "pygments_lexer": "ipython3",
   "version": "3.8.8"
  }
 },
 "nbformat": 4,
 "nbformat_minor": 4
}
